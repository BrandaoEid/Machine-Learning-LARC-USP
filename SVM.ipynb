{
  "nbformat": 4,
  "nbformat_minor": 0,
  "metadata": {
    "colab": {
      "name": "SVM",
      "provenance": [],
      "authorship_tag": "ABX9TyNp1KRMvFHWVYn5WJBL2Q14",
      "include_colab_link": true
    },
    "kernelspec": {
      "name": "python3",
      "display_name": "Python 3"
    }
  },
  "cells": [
    {
      "cell_type": "markdown",
      "metadata": {
        "id": "view-in-github",
        "colab_type": "text"
      },
      "source": [
        "<a href=\"https://colab.research.google.com/github/BrandaoEid/Machine-Learning-LARC-USP/blob/master/SVM.ipynb\" target=\"_parent\"><img src=\"https://colab.research.google.com/assets/colab-badge.svg\" alt=\"Open In Colab\"/></a>"
      ]
    },
    {
      "cell_type": "markdown",
      "metadata": {
        "id": "cIFBWDOM9GM4",
        "colab_type": "text"
      },
      "source": [
        "# Support Vector Machine"
      ]
    },
    {
      "cell_type": "markdown",
      "metadata": {
        "id": "ksMG84jy9Lof",
        "colab_type": "text"
      },
      "source": [
        "Algoritmo supervisionado que tem como objetivo encontrar um hiperplano (Fronteira de decisão) em um espaço n-dimensional para separar diferentes classes.\n",
        "\n",
        "<img src=\"https://miro.medium.com/max/1166/1*Yh26T_T_5pGsxvNAguyDKw.png\" width=\"300\" height = \"200\" align=\"center\"/>\n",
        "\n",
        "Esta imagem descreve o funcionamento do algoritmo de SVM. Temos:\n",
        "- Support Vectors (Vetores de suporte) - pontos mais próximos a fronteira de decisão\n",
        "- Margem - distância entre o primeiro ponto de cada classe e o hiperplano\n",
        "- Hiperplano - linha de separação entre duas classes.\n",
        "\n",
        "**Kernelling**\n",
        "\n",
        "Para situações em que um hiperplano linear não consegue solucionar é possível utilizar o , que transforma o espaço dimensional atual em um espaço dimensional maior, isto é feito a partir da adição de um novo atributo derivado dos demais.\n",
        "\n",
        "\n",
        "<img src=\"https://miro.medium.com/max/838/1*gXvhD4IomaC9Jb37tzDUVg.png\" width=\"500\" align=\"center\"/>\n",
        "\n",
        "**Sintonia**\n",
        "\n",
        "Dentre os parâmetros de ajuste temos:\n",
        "- C: Grau de tolerância dos erros (Regularização)\n",
        " - Valor pequeno de C - Permite mais erros na classificação dos dados de treinamento (Produz modelos mais simples) - Maior força de regularização\n",
        " - Valor grande de C - Permite menos erros de classificação dos dados de treinamento (Produz modelos mais complexos) - Menor força de regularização\n",
        " - C = 1 (default)\n",
        "\n",
        "\n",
        " <img src=\"https://miro.medium.com/max/4272/1*DSHIKH8TiiN1FeTKtfDzrQ.png\" width=\"500\" align=\"center\"/>\n",
        "\n",
        "- Gamma: parâmetro utilizado somente em Kernel RBF (default)\n",
        " - Valor alto de Gamma: faz o ajuste perfeito nos dados de treinamento levando ao overfitting (considera pontos únicos para definição da fronteira de decisão)\n",
        " - Valor baixo de Gamma: considera uma quantidade maior de pontos para a definição da fronteira de decisão - fronteiras mais suaves\n",
        "\n",
        " <img src=\"https://miro.medium.com/max/2090/1*r9CO-gp1uuRsYooCLL9UeQ.png\" width=\"600\" align=\"center\"/>\n",
        "\n",
        " **Considerações**\n",
        "\n",
        "- Apesar de trabalhar bem com poucos/muitos atributos, não perfoma bem com muitas instâncias (> 10.000)\n",
        "- SVM é sensível a variação na escala dos atributos, logo é necessário realizar um pré processamento dos dados\n",
        "- Dificuldade de inspeção\n",
        "- Na maioria das vezes é necessário fazer ajuste dos parâmetros\n",
        "\n",
        "\n",
        "\n",
        "\n",
        "\n"
      ]
    },
    {
      "cell_type": "markdown",
      "metadata": {
        "id": "mpp0KUpjDwML",
        "colab_type": "text"
      },
      "source": [
        "## Exercício"
      ]
    },
    {
      "cell_type": "markdown",
      "metadata": {
        "id": "1E-VxHMdDysS",
        "colab_type": "text"
      },
      "source": [
        "Aplicação do algoritmo no dataset breast_cancer\n",
        "\n",
        "Dados do dataset:\n",
        "    \n",
        "- 569 amostras de diagnósticos de câncer de mama\n",
        "- Cada amostra possui 30 atributos\n",
        "- Os labels da classe são 'benign' e 'malignant'\n",
        "- Dataset presente no scikit-learn\n"
      ]
    },
    {
      "cell_type": "code",
      "metadata": {
        "id": "litm9NXg9BDX",
        "colab_type": "code",
        "colab": {}
      },
      "source": [
        "import pandas as pd\n",
        "\n",
        "from sklearn.datasets import load_breast_cancer\n",
        "\n",
        "cancer = load_breast_cancer()"
      ],
      "execution_count": 0,
      "outputs": []
    },
    {
      "cell_type": "markdown",
      "metadata": {
        "id": "oHzJ_m_SEmkD",
        "colab_type": "text"
      },
      "source": [
        "Assinalar as preditoras e o target\n"
      ]
    },
    {
      "cell_type": "code",
      "metadata": {
        "id": "i5_rFEx7EU7D",
        "colab_type": "code",
        "colab": {}
      },
      "source": [
        "X = cancer['data']\n",
        "y = cancer['target']"
      ],
      "execution_count": 0,
      "outputs": []
    },
    {
      "cell_type": "markdown",
      "metadata": {
        "id": "JtBYWo1MF5hS",
        "colab_type": "text"
      },
      "source": [
        "Divisão entre treino e teste"
      ]
    },
    {
      "cell_type": "code",
      "metadata": {
        "id": "Lxmyr_aDErr6",
        "colab_type": "code",
        "colab": {}
      },
      "source": [
        "from sklearn.model_selection import train_test_split\n",
        "X_train, X_test, Y_train, Y_test = train_test_split(X, y, random_state = 0)"
      ],
      "execution_count": 0,
      "outputs": []
    },
    {
      "cell_type": "markdown",
      "metadata": {
        "id": "wPacJiKXGJhL",
        "colab_type": "text"
      },
      "source": [
        "Modelo"
      ]
    },
    {
      "cell_type": "code",
      "metadata": {
        "id": "GkKBKDaiGFiI",
        "colab_type": "code",
        "colab": {
          "base_uri": "https://localhost:8080/",
          "height": 91
        },
        "outputId": "c4928558-6e4f-4758-92fd-3c95b5055567"
      },
      "source": [
        "from sklearn.svm import SVC\n",
        "clf = SVC(gamma = 'auto')\n",
        "clf.fit(X_train, Y_train)"
      ],
      "execution_count": 43,
      "outputs": [
        {
          "output_type": "execute_result",
          "data": {
            "text/plain": [
              "SVC(C=1.0, break_ties=False, cache_size=200, class_weight=None, coef0=0.0,\n",
              "    decision_function_shape='ovr', degree=3, gamma='auto', kernel='rbf',\n",
              "    max_iter=-1, probability=False, random_state=None, shrinking=True,\n",
              "    tol=0.001, verbose=False)"
            ]
          },
          "metadata": {
            "tags": []
          },
          "execution_count": 43
        }
      ]
    },
    {
      "cell_type": "markdown",
      "metadata": {
        "id": "7C2v7aolGXLy",
        "colab_type": "text"
      },
      "source": [
        "Desempenhos"
      ]
    },
    {
      "cell_type": "code",
      "metadata": {
        "id": "6TTLVrmjGSTi",
        "colab_type": "code",
        "colab": {
          "base_uri": "https://localhost:8080/",
          "height": 54
        },
        "outputId": "4331e9f7-ebd9-43ca-d325-b056dfa51a4c"
      },
      "source": [
        "print(clf.score(X_train,Y_train))\n",
        "print('{:.2f}'.format(clf.score(X_test,Y_test)))"
      ],
      "execution_count": 44,
      "outputs": [
        {
          "output_type": "stream",
          "text": [
            "1.0\n",
            "0.63\n"
          ],
          "name": "stdout"
        }
      ]
    },
    {
      "cell_type": "markdown",
      "metadata": {
        "id": "v_UpgiNqGrdi",
        "colab_type": "text"
      },
      "source": [
        "A distância entre a acurácia do modelo demonstra overfitting. Até então nenhum scaler tinha sido aplicado ao conjunto de dados e o SVM é sensível a valores em escalas diferentes e a parâmetros também."
      ]
    },
    {
      "cell_type": "markdown",
      "metadata": {
        "id": "U-dH81OKHvUQ",
        "colab_type": "text"
      },
      "source": [
        "Aplicando transformação de dados"
      ]
    },
    {
      "cell_type": "code",
      "metadata": {
        "id": "JZnmsnEiGeEo",
        "colab_type": "code",
        "colab": {}
      },
      "source": [
        "from sklearn.preprocessing import MinMaxScaler\n",
        "scaler = MinMaxScaler()\n",
        "\n",
        "X_train_scaled = scaler.fit_transform(X_train)\n",
        "X_test_scaled = scaler.fit_transform(X_test)"
      ],
      "execution_count": 0,
      "outputs": []
    },
    {
      "cell_type": "markdown",
      "metadata": {
        "id": "JveMUkfzID-g",
        "colab_type": "text"
      },
      "source": [
        "Modelo"
      ]
    },
    {
      "cell_type": "code",
      "metadata": {
        "id": "lWPxmsGhICrB",
        "colab_type": "code",
        "colab": {
          "base_uri": "https://localhost:8080/",
          "height": 91
        },
        "outputId": "9a90962d-347f-448f-fefb-26cd6d1eb8ed"
      },
      "source": [
        "clf = SVC(gamma = 'auto')\n",
        "clf.fit(X_train_scaled, Y_train)"
      ],
      "execution_count": 46,
      "outputs": [
        {
          "output_type": "execute_result",
          "data": {
            "text/plain": [
              "SVC(C=1.0, break_ties=False, cache_size=200, class_weight=None, coef0=0.0,\n",
              "    decision_function_shape='ovr', degree=3, gamma='auto', kernel='rbf',\n",
              "    max_iter=-1, probability=False, random_state=None, shrinking=True,\n",
              "    tol=0.001, verbose=False)"
            ]
          },
          "metadata": {
            "tags": []
          },
          "execution_count": 46
        }
      ]
    },
    {
      "cell_type": "markdown",
      "metadata": {
        "id": "JdqHb8XtIS6a",
        "colab_type": "text"
      },
      "source": [
        "Desempenho"
      ]
    },
    {
      "cell_type": "code",
      "metadata": {
        "id": "fE-zwxlMIPqg",
        "colab_type": "code",
        "colab": {
          "base_uri": "https://localhost:8080/",
          "height": 54
        },
        "outputId": "f7d3cebd-89ec-45f6-e996-1a2be1defa8b"
      },
      "source": [
        "print('{:.3f}'.format(clf.score(X_train_scaled,Y_train)))\n",
        "print('{:.3f}'.format(clf.score(X_test_scaled,Y_test)))"
      ],
      "execution_count": 47,
      "outputs": [
        {
          "output_type": "stream",
          "text": [
            "0.948\n",
            "0.951\n"
          ],
          "name": "stdout"
        }
      ]
    },
    {
      "cell_type": "markdown",
      "metadata": {
        "id": "ngdRl6oMmHlj",
        "colab_type": "text"
      },
      "source": [
        "Com a alteração na magnitude dos dados podemos notar uma grande diferença na acurácia.\n",
        "\n",
        "Podemos observar como a alteração dos parametros C e gamma tem influência no desempenho do modelo"
      ]
    },
    {
      "cell_type": "code",
      "metadata": {
        "id": "QN2bP6cwIdDA",
        "colab_type": "code",
        "colab": {
          "base_uri": "https://localhost:8080/",
          "height": 91
        },
        "outputId": "4dca65a0-c615-4c07-9066-13068f694665"
      },
      "source": [
        "clf1000 = SVC(C = 1000, gamma = 'auto')\n",
        "clf1000.fit(X_train_scaled, Y_train)"
      ],
      "execution_count": 81,
      "outputs": [
        {
          "output_type": "execute_result",
          "data": {
            "text/plain": [
              "SVC(C=1000, break_ties=False, cache_size=200, class_weight=None, coef0=0.0,\n",
              "    decision_function_shape='ovr', degree=3, gamma='auto', kernel='rbf',\n",
              "    max_iter=-1, probability=False, random_state=None, shrinking=True,\n",
              "    tol=0.001, verbose=False)"
            ]
          },
          "metadata": {
            "tags": []
          },
          "execution_count": 81
        }
      ]
    },
    {
      "cell_type": "code",
      "metadata": {
        "id": "OY340AZCmmR0",
        "colab_type": "code",
        "colab": {
          "base_uri": "https://localhost:8080/",
          "height": 54
        },
        "outputId": "6315b4e5-44ac-4008-bd19-ad66b63accf4"
      },
      "source": [
        "print('{:.3f}'.format(clf1000.score(X_train_scaled, Y_train)))\n",
        "print('{:.3f}'.format(clf1000.score(X_test_scaled, Y_test)))"
      ],
      "execution_count": 82,
      "outputs": [
        {
          "output_type": "stream",
          "text": [
            "0.988\n",
            "0.804\n"
          ],
          "name": "stdout"
        }
      ]
    },
    {
      "cell_type": "markdown",
      "metadata": {
        "id": "53DtEzYrn2Bz",
        "colab_type": "text"
      },
      "source": [
        "Com um valor alto de C, temos uma diminuição na força de regularização, levando o algoritmo a produzir fronteiras mais complexas e não sendo capaz de generalizar tão bem"
      ]
    }
  ]
}