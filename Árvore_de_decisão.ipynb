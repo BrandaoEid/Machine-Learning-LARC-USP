{
  "nbformat": 4,
  "nbformat_minor": 0,
  "metadata": {
    "colab": {
      "name": "Árvore de decisão.ipynb",
      "provenance": [],
      "authorship_tag": "ABX9TyNqrQbc+nAm0bgNC1zBdARJ",
      "include_colab_link": true
    },
    "kernelspec": {
      "name": "python3",
      "display_name": "Python 3"
    }
  },
  "cells": [
    {
      "cell_type": "markdown",
      "metadata": {
        "id": "view-in-github",
        "colab_type": "text"
      },
      "source": [
        "<a href=\"https://colab.research.google.com/github/BrandaoEid/Machine-Learning-LARC-USP/blob/master/%C3%81rvore_de_decis%C3%A3o.ipynb\" target=\"_parent\"><img src=\"https://colab.research.google.com/assets/colab-badge.svg\" alt=\"Open In Colab\"/></a>"
      ]
    },
    {
      "cell_type": "markdown",
      "metadata": {
        "id": "zAltkWK91_DY",
        "colab_type": "text"
      },
      "source": [
        "# Árvore de decisão"
      ]
    },
    {
      "cell_type": "markdown",
      "metadata": {
        "id": "tFovxmYa2Gdh",
        "colab_type": "text"
      },
      "source": [
        "Pode se entender uma árvore de decisão como uma composição de regras if-then-else, devido a isso temos um modelo com maior interpretabilidade do que modelos como regressão linear/logística. Uma árvore de decisão segue a seguinte estrutura: \n",
        "\n",
        "<img src=\"https://dzone.com/storage/temp/8152817-b-tree.png\" width=\"500\" height = \"400\" align=\"center\"/>\n",
        "\n",
        "No topo da árvore temos o nó raiz que fica na profundidade 0, todos os nós que não contém repartição são considerados folhas (contém a classe final). É possível extrair informações do conjunto de dados olhando apenas esta estrutura final. \n",
        "\n",
        "Exemplo: Nesta árvore temos um conjunto de 150 amostras compostas por 3 atributos[X1,X2,X3], divididas em 3 classes com 50 amostras cada. A leitura da árvore seria da seguinte forma: Se o atributo X2 for menor ou igual que 2.45 a amostra pertence a classe 1, se não se o atributo X3 for menor que 1.75.. e assim sucessivamente até que as classes estejam separadas.\n",
        "\n",
        "\n",
        "##Algoritmo\n",
        "\n",
        "A partir da seguinte premissa:\n",
        "1. Dado uma variável de target (Y) e um conjunto de X variáveis preditoras, onde temos x1,x2,x2...X\n",
        "2. Para uma repartição R de registros, a repartição recursiva encontrará a melhor forma de repartir A em dois subconjuntos\n",
        "\n",
        "O algoritmo de repartição funciona da seguinte forma:\n",
        "1. Para cada variável Xn em X:\n",
        "    \n",
        "    1.1. Para cada valor V em Xn:\n",
        "\n",
        "    1.1.1. Divida os valores presentes em Xn em dois subconjuntos, onde um deles contenha Xn <= V e o outro Xn > V\n",
        "\n",
        "    1.1.2. Selecione o valor V em que a maior homogeneidade seja encontrada dentro da repartição\n",
        "\n",
        "Algoritmo de repartição:\n",
        "1. Dado o conjunto R de amostras(conjunto completo)\n",
        "2. Aplique o algoritmo de repartição para gerar R1 e R2\n",
        "3. Repita o passo 2 nos subconjuntos gerados até que não exista nenhuma outra repartição para ser feita que melhore a homogeneidade\n",
        "\n",
        "A partir do algoritmo é possível notar a tendencia de sobreajustar os dados no treinamento, vez que, o passo de repartição se repete até que a homogeneidade seja máxima e para que isso aconteça as regras devem ser criadas levando em conta todo o dataset, que muitas vezes não está isento de ruídos.\n",
        "\n",
        "##Homogeneidade\n",
        "\n",
        "A homogeneidade falada no algoritmo nada mais é do que o quão bem separadas as classes estão dentro dos nós. Por exemplo a situação ideal seria que em cada nó folha ou até mesmo em um nó intermediário exista a predominancia de uma classes diante as outras. Esta situação pode ser vista no nó a esquerda logo após a raiz, onde existe somente uma classe presente e um índice de Gini = 0.\n",
        "\n",
        "Devemos considerar a homogeneidade como o oposto de impureza (baixa homogeneidade, alta impureza e vice versa).A impureza é a medida utilizada em árvores de decisão e existem duas métricas para quantificar estes valores:\n",
        "* Impureza de Gini\n",
        "\n",
        "    I(A) = p * (1-p)\n",
        "\n",
        "\n",
        "* Entropia\n",
        "\n",
        "    I(A) = -p * log2(p) - (1-p) * log2(1-p)\n",
        "\n",
        "    Onde p = (total de elementos de uma classe no nó/total de elementos no nó)\n",
        "\n",
        "Gráficamente\n",
        "\n",
        "<img src=\"https://d3i71xaburhd42.cloudfront.net/160e21c3acc925b60dc040cb1705e58bb166b045/3-Figure3-1.png\" width=\"500\" height = \"300\" align=\"center\"/>\n",
        "\n",
        "Podemos notar que a entropia penaliza de forma mais severa até as precisões  mais altas.\n",
        "\n",
        "Para cada repartição é calculada a impureza nos subconjuntos e feita a média ponderada pela quantidade de registros, o atributo que possua a menor média ponderada para aquele passo é o selecionado.\n",
        "\n",
        "\n",
        "##Ajustes\n",
        "Com a finalizadade de evitar que a árvore sobreajuste aos dados de treinamentos, existem técnicas como:\n",
        "* Evitar dividir uma repartição caso a subrepartição final for muito pequena ou a folha for muito pequena\n",
        "* Não dividir uma repartição caso ocorra uma diminuição considerável no valor de homogeneidade\n",
        "* Limitar a profundidade máxima da árvore\n",
        "\n",
        "##Considerações\n",
        "**Pontos Positivos**\n",
        "\n",
        "Como positivos temos:\n",
        "1. A possibilidade de inspecionar como cada relacionamento se da e também a importância de cada variável\n",
        "2. Capacidade de encontrar relacionamentos não lineares entre as variáveis preditoras\n",
        "3. Devido a alta interpretabilidade pessoas não especilistas podem utilizar para explicações\n",
        "4. Não é necessário aplicar scalers aos dados, uma vez que cada atributo é processado separadamente\n",
        "\n",
        "**Ponto Fraco**\n",
        "\n",
        "Como ponto negativo:\n",
        "1. Tendencia ao overfitting, necessários ajustar os hiperparametros para que isso não ocorra\n",
        "\n",
        "\n",
        "\n",
        "\n",
        "\n",
        "\n",
        "\n",
        "\n",
        "\n",
        "\n"
      ]
    },
    {
      "cell_type": "markdown",
      "metadata": {
        "id": "T04cmn-gl0XH",
        "colab_type": "text"
      },
      "source": [
        "##Exercício"
      ]
    },
    {
      "cell_type": "markdown",
      "metadata": {
        "id": "B0oJJYhXluzt",
        "colab_type": "text"
      },
      "source": [
        "Aplicação do algoritmo no dataset breast_cancer\n",
        "\n",
        "Dados do dataset:\n",
        "\n",
        "* 569 amostras de diagnósticos de câncer de mama\n",
        "* Cada amostra possui 30 atributos\n",
        "* Os labels da classe são 'benign' e 'malignant'\n",
        "* Dataset presente no scikit-learn\n"
      ]
    },
    {
      "cell_type": "code",
      "metadata": {
        "id": "NMBYI72jlvQv",
        "colab_type": "code",
        "colab": {}
      },
      "source": [
        "import pandas as pd\n",
        "\n",
        "from sklearn.datasets import load_breast_cancer\n",
        "\n",
        "cancer = load_breast_cancer()"
      ],
      "execution_count": 0,
      "outputs": []
    },
    {
      "cell_type": "markdown",
      "metadata": {
        "id": "J2IiXbobl-eH",
        "colab_type": "text"
      },
      "source": [
        "Assinalar as preditoras e o target\n"
      ]
    },
    {
      "cell_type": "code",
      "metadata": {
        "id": "V_JPkVCbl85h",
        "colab_type": "code",
        "colab": {}
      },
      "source": [
        "X = cancer['data']\n",
        "y = cancer['target']"
      ],
      "execution_count": 0,
      "outputs": []
    },
    {
      "cell_type": "markdown",
      "metadata": {
        "id": "6-gAGuHEmGk3",
        "colab_type": "text"
      },
      "source": [
        "Divisão entre treino e teste"
      ]
    },
    {
      "cell_type": "code",
      "metadata": {
        "id": "JkbIZIp3mBbR",
        "colab_type": "code",
        "colab": {}
      },
      "source": [
        "from sklearn.model_selection import train_test_split\n",
        "X_train, X_test, y_train, y_test = train_test_split(X, y, random_state = 0)"
      ],
      "execution_count": 0,
      "outputs": []
    },
    {
      "cell_type": "markdown",
      "metadata": {
        "id": "hH7OgO63mKWv",
        "colab_type": "text"
      },
      "source": [
        "Modelo"
      ]
    },
    {
      "cell_type": "code",
      "metadata": {
        "id": "EIyfrCaXmF3P",
        "colab_type": "code",
        "colab": {
          "base_uri": "https://localhost:8080/",
          "height": 129
        },
        "outputId": "41f0bbb3-7663-42fc-c751-fa7d388a48c7"
      },
      "source": [
        "from sklearn.tree import DecisionTreeClassifier\n",
        "tree = DecisionTreeClassifier(random_state=0)\n",
        "tree.fit(X_train, y_train)"
      ],
      "execution_count": 23,
      "outputs": [
        {
          "output_type": "execute_result",
          "data": {
            "text/plain": [
              "DecisionTreeClassifier(ccp_alpha=0.0, class_weight=None, criterion='gini',\n",
              "                       max_depth=None, max_features=None, max_leaf_nodes=None,\n",
              "                       min_impurity_decrease=0.0, min_impurity_split=None,\n",
              "                       min_samples_leaf=1, min_samples_split=2,\n",
              "                       min_weight_fraction_leaf=0.0, presort='deprecated',\n",
              "                       random_state=0, splitter='best')"
            ]
          },
          "metadata": {
            "tags": []
          },
          "execution_count": 23
        }
      ]
    },
    {
      "cell_type": "markdown",
      "metadata": {
        "id": "of4ey37wmZJx",
        "colab_type": "text"
      },
      "source": [
        "Desempenhos"
      ]
    },
    {
      "cell_type": "code",
      "metadata": {
        "id": "8jwyE7fWmSS4",
        "colab_type": "code",
        "colab": {
          "base_uri": "https://localhost:8080/",
          "height": 54
        },
        "outputId": "05b43c9c-7bd9-429a-bdca-0d779e781cdf"
      },
      "source": [
        "print(tree.score(X_train,y_train))\n",
        "print('{:.2f}'.format(tree.score(X_test,y_test)))"
      ],
      "execution_count": 24,
      "outputs": [
        {
          "output_type": "stream",
          "text": [
            "1.0\n",
            "0.88\n"
          ],
          "name": "stdout"
        }
      ]
    },
    {
      "cell_type": "markdown",
      "metadata": {
        "id": "3gz-lUhdoK2i",
        "colab_type": "text"
      },
      "source": [
        "Como era esperado, a acurácia nos dados de treinamento deu 100%, o que mostra claramente a ocorrência overfitting. Podemos verificar a importancia de cada atributo dentro do modelo"
      ]
    },
    {
      "cell_type": "code",
      "metadata": {
        "id": "25a3iasooLD_",
        "colab_type": "code",
        "colab": {}
      },
      "source": [
        "import matplotlib.pyplot as plt\n",
        "import numpy as np\n",
        "from pylab import rcParams\n",
        "rcParams['figure.figsize'] = 10, 8\n",
        "\n",
        "def plot_feature_importances(model):\n",
        "    n_features= X.shape[1]\n",
        "    plt.barh(np.arange(n_features),model.feature_importances_, align='center')\n",
        "    plt.yticks(np.arange(n_features), nomes_atributo)\n",
        "    plt.xlabel(\"Importancia dos atributos\")\n",
        "    plt.ylabel(\"Atributos\")\n",
        "    plt.ylim(-1, n_features)"
      ],
      "execution_count": 0,
      "outputs": []
    },
    {
      "cell_type": "code",
      "metadata": {
        "id": "KaXV-vVXoZ9Q",
        "colab_type": "code",
        "colab": {
          "base_uri": "https://localhost:8080/",
          "height": 497
        },
        "outputId": "214822ee-ccd4-404f-88d5-66b41ec41ad8"
      },
      "source": [
        "nomes_atributo= cancer['feature_names']\n",
        "plot_feature_importances(tree)"
      ],
      "execution_count": 36,
      "outputs": [
        {
          "output_type": "display_data",
          "data": {
            "image/png": "[encoded data removed]",
            "text/plain": [
              "<Figure size 720x576 with 1 Axes>"
            ]
          },
          "metadata": {
            "tags": [],
            "needs_background": "light"
          }
        }
      ]
    },
    {
      "cell_type": "markdown",
      "metadata": {
        "id": "EwDW796Fmgw5",
        "colab_type": "text"
      },
      "source": [
        "\n",
        "\n",
        "Vamos construir um modelo agora aplicando a poda(limitando a profundidade) para verificar a diferença no desempenho e na escolha de atributos"
      ]
    },
    {
      "cell_type": "code",
      "metadata": {
        "id": "S-uiqWsRmfjm",
        "colab_type": "code",
        "colab": {
          "base_uri": "https://localhost:8080/",
          "height": 129
        },
        "outputId": "e164a430-ac3f-42c5-aef2-213f4573f203"
      },
      "source": [
        "tree4 = DecisionTreeClassifier(random_state=0, max_depth= 4)\n",
        "tree4.fit(X_train, y_train)"
      ],
      "execution_count": 27,
      "outputs": [
        {
          "output_type": "execute_result",
          "data": {
            "text/plain": [
              "DecisionTreeClassifier(ccp_alpha=0.0, class_weight=None, criterion='gini',\n",
              "                       max_depth=4, max_features=None, max_leaf_nodes=None,\n",
              "                       min_impurity_decrease=0.0, min_impurity_split=None,\n",
              "                       min_samples_leaf=1, min_samples_split=2,\n",
              "                       min_weight_fraction_leaf=0.0, presort='deprecated',\n",
              "                       random_state=0, splitter='best')"
            ]
          },
          "metadata": {
            "tags": []
          },
          "execution_count": 27
        }
      ]
    },
    {
      "cell_type": "markdown",
      "metadata": {
        "id": "lcLBBOB9mvrS",
        "colab_type": "text"
      },
      "source": [
        "Desempenhos"
      ]
    },
    {
      "cell_type": "code",
      "metadata": {
        "id": "gwfrcrPimu4v",
        "colab_type": "code",
        "colab": {
          "base_uri": "https://localhost:8080/",
          "height": 54
        },
        "outputId": "8b46d6da-054a-4a04-daed-2cc98144ae0f"
      },
      "source": [
        "print(tree4.score(X_train,y_train))\n",
        "print('{:.2f}'.format(tree4.score(X_test,y_test)))"
      ],
      "execution_count": 28,
      "outputs": [
        {
          "output_type": "stream",
          "text": [
            "0.9929577464788732\n",
            "0.90\n"
          ],
          "name": "stdout"
        }
      ]
    },
    {
      "cell_type": "markdown",
      "metadata": {
        "id": "W3Qh3h66m533",
        "colab_type": "text"
      },
      "source": [
        "Podemos ver como a poda auxilia na situação de sobreajuste e melhora o desempenho no treinamento. Podemos verificar a importancia de cada variável"
      ]
    },
    {
      "cell_type": "code",
      "metadata": {
        "id": "qKILkES1nDbg",
        "colab_type": "code",
        "colab": {
          "base_uri": "https://localhost:8080/",
          "height": 497
        },
        "outputId": "a2cbf7b7-a4ad-4104-f3ee-9684d00fe416"
      },
      "source": [
        "nomes_atributo= cancer['feature_names']\n",
        "plot_feature_importances(tree4)"
      ],
      "execution_count": 37,
      "outputs": [
        {
          "output_type": "display_data",
          "data": {
            "image/png": "[encoded data removed]",
            "text/plain": [
              "<Figure size 720x576 with 1 Axes>"
            ]
          },
          "metadata": {
            "tags": [],
            "needs_background": "light"
          }
        }
      ]
    },
    {
      "cell_type": "markdown",
      "metadata": {
        "id": "OseFgnSXny3f",
        "colab_type": "text"
      },
      "source": [
        "Podemos notar que para uma profundidade 4 temos o atributo \"mean concave points\" como mais importante ou mais influente no modelo e que alguns atributos antes desconsiderados agora estão considerados"
      ]
    }
  ]
}